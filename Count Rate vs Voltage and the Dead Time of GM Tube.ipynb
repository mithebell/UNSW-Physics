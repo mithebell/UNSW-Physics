{
 "cells": [
  {
   "cell_type": "markdown",
   "id": "75ab5630",
   "metadata": {},
   "source": [
    "# Count Rate vs Voltage and the Dead Time of GM Tube\n",
    "Graph the relationship between count rate and the high voltage. As well as calculate the dead time of the Geiger counter"
   ]
  },
  {
   "cell_type": "code",
   "execution_count": 1,
   "id": "43704429",
   "metadata": {},
   "outputs": [],
   "source": [
    "# import libraries\n",
    "\n",
    "import pandas as pd\n",
    "import numpy as np\n",
    "import matplotlib.pyplot as plt"
   ]
  },
  {
   "cell_type": "code",
   "execution_count": 2,
   "id": "adeffd3c",
   "metadata": {},
   "outputs": [
    {
     "name": "stdout",
     "output_type": "stream",
     "text": [
      "[ 152.32247315 -895.53619233]\n"
     ]
    }
   ],
   "source": [
    "# import data as a numpy array\n",
    "\n",
    "data = np.genfromtxt('exp2a_t2.tsv', skip_header = 15)\n",
    "voltage = data[:,1] # High Voltage\n",
    "rate = data[:,2]/60 # number of counts\n",
    "\n",
    "curve = np.polyfit(np.log(voltage), rate, 1)\n",
    "print(curve)"
   ]
  },
  {
   "cell_type": "code",
   "execution_count": 3,
   "id": "8ff7592a",
   "metadata": {},
   "outputs": [
    {
     "data": {
      "text/plain": [
       "[<matplotlib.lines.Line2D at 0x22bee7c35b0>]"
      ]
     },
     "execution_count": 3,
     "metadata": {},
     "output_type": "execute_result"
    },
    {
     "data": {
      "image/png": "[encoded data removed]",
      "text/plain": [
       "<Figure size 504x432 with 1 Axes>"
      ]
     },
     "metadata": {
      "needs_background": "light"
     },
     "output_type": "display_data"
    }
   ],
   "source": [
    "# plot counts vs voltage curve\n",
    "\n",
    "plt.figure(figsize=(7, 6))\n",
    "plt.plot(voltage, rate, 'x', label='Data', color='red')\n",
    "plt.xlabel(\"High Voltage (V)\")\n",
    "plt.ylabel(\"Count Rate (counts/s)\")\n",
    "\n",
    "z = np.polyfit(voltage, rate, 11)\n",
    "p = np.poly1d(z)\n",
    "plt.plot(voltage, p(voltage),\"b--\")"
   ]
  },
  {
   "cell_type": "code",
   "execution_count": 4,
   "id": "72928c0d",
   "metadata": {},
   "outputs": [
    {
     "name": "stdout",
     "output_type": "stream",
     "text": [
      "n(A) = 150.83888888888887±6.133333333333326 /s\n",
      "n(AB) = 189.77777777777774±4.983333333333334 /s\n",
      "n(B) = 43.58888888888888±1.158333333333335 /s\n",
      "τ = 0.00035361756875355036±3.306123357823796e-05 s\n"
     ]
    }
   ],
   "source": [
    "# import data for dead time caculations.\n",
    "# since only 9 measurements were taken, the data was manually typed\n",
    "\n",
    "#count rates\n",
    "n_a = [9404/60, 8668/60, 9079/60] # n(A)\n",
    "n_ab = [11722/60, 11124/60, 11314/60] # n(AB)\n",
    "n_b = [2565/60, 2704/60, 2577/60] # n(B)\n",
    "\n",
    "# uncertainty of each count rate\n",
    "delta_a = (max(n_a)-min(n_a))/2\n",
    "delta_ab = (max(n_ab)-min(n_ab))/2\n",
    "delta_b = (max(n_b)-min(n_b))/2\n",
    "\n",
    "# find the average value of the count rates of each source\n",
    "a = sum(n_a) / 3\n",
    "ab = sum(n_ab) / 3\n",
    "b = sum(n_b) / 3\n",
    "\n",
    "tau = (a+b-ab)/(2*a*b) # calculate dead time\n",
    "# calculate uncertainty of dead time\n",
    "delta_tau = tau*((delta_a/a)+(delta_ab/ab)+(delta_b/b))\n",
    "\n",
    "#print values\n",
    "print('n(A) = ' + str(a) + u\"\\u00B1\" + str(delta_a) + ' /s')\n",
    "print('n(AB) = ' + str(ab) + u\"\\u00B1\" + str(delta_ab) + ' /s')\n",
    "print('n(B) = ' + str(b) + u\"\\u00B1\" + str(delta_b) + ' /s')\n",
    "print(u\"\\u03C4\" + ' = ' + str(tau) + u\"\\u00B1\" + str(delta_tau) + ' s')"
   ]
  }
 ],
 "metadata": {
  "kernelspec": {
   "display_name": "Python 3 (ipykernel)",
   "language": "python",
   "name": "python3"
  },
  "language_info": {
   "codemirror_mode": {
    "name": "ipython",
    "version": 3
   },
   "file_extension": ".py",
   "mimetype": "text/x-python",
   "name": "python",
   "nbconvert_exporter": "python",
   "pygments_lexer": "ipython3",
   "version": "3.8.8"
  }
 },
 "nbformat": 4,
 "nbformat_minor": 5
}
