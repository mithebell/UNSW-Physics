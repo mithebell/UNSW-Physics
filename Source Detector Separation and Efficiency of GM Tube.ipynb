{
 "cells": [
  {
   "cell_type": "markdown",
   "id": "534484f7",
   "metadata": {},
   "source": [
    "# Source Detector Separation and Efficiency of GM Tube\n",
    "- To calculate and graph the relationship between the slot number and the ratio of counts at each slot over the number of counts at slot 6 for an Am-241 and Sr-90 source.\n",
    "- To calculate the $\\beta$ and $\\gamma$ efficiency of the GM counter using Cs-137 and Sr-90"
   ]
  },
  {
   "cell_type": "code",
   "execution_count": 1,
   "id": "893f2f7a",
   "metadata": {},
   "outputs": [],
   "source": [
    "# import libraries\n",
    "\n",
    "import numpy as np\n",
    "import matplotlib.pyplot as plt\n",
    "import scipy.optimize"
   ]
  },
  {
   "cell_type": "code",
   "execution_count": 36,
   "id": "63dcb4c3",
   "metadata": {},
   "outputs": [
    {
     "name": "stdout",
     "output_type": "stream",
     "text": [
      "[7091.  2128.    97.5   45.    32.5   25. ] [75.  24.   9.5  1.   5.5  7. ]\n",
      "[3955.  2720.5 1922.5 1096.   662.   504. ] [25.  32.5 12.5  8.   5.   8. ]\n"
     ]
    }
   ],
   "source": [
    "slot = np.linspace(6, 1, num = 6)\n",
    "\n",
    "# Am-241\n",
    "Am_data = np.genfromtxt('exp4a_Am241.tsv', skip_header = 11)\n",
    "Am_counts = Am_data[:,2] # counts at different slots (indescending order from 6 to 1)\n",
    "\n",
    "#arrays of zero\n",
    "Am_mean = np.zeros(6)\n",
    "Am_delta = np.zeros(6)\n",
    "\n",
    "#for loop to calculate the mean and uncertainty of the counts at each slot\n",
    "for n in [0,2,4,6,8,10]: \n",
    "    Am_mean[int(n/2)] = (Am_counts[n]+Am_counts[n+1])/2 # mean\n",
    "    Am_delta[int(n/2)] = np.abs(Am_counts[n]-Am_counts[n+1])/2 # uncertainty\n",
    "\n",
    "print(Am_mean, Am_delta)\n",
    "\n",
    "# find ratios and uncertainty of the ratios\n",
    "Am_ratio = Am_mean/Am_mean[0] # ratios with respect to slot 6 counts\n",
    "Am_ratio_delta = Am_ratio*((Am_delta/Am_mean)+(Am_delta[0]/Am_mean[0])) \n",
    "# uncertainty of the ratio. Addition since the variables are dependent\n",
    "\n",
    "# Sr-90\n",
    "Sr_data = np.genfromtxt('exp4a_Sr90.tsv', skip_header = 11)\n",
    "Sr_counts = Sr_data[:,2] # counts at different slots (indescending order from 6 to 1)\n",
    "\n",
    "#array of zeros\n",
    "Sr_mean = np.zeros(6)\n",
    "Sr_delta = np.zeros(6)\n",
    "\n",
    "#for loop to calculate the mean and uncertainty of the counts at each slot\n",
    "for n in [0,2,4,6,8,10]:\n",
    "    Sr_mean[int(n/2)] = (Sr_counts[n]+Sr_counts[n+1])/2 # mean\n",
    "    Sr_delta[int(n/2)] = np.abs(Sr_counts[n]-Sr_counts[n+1])/2 # uncertainty\n",
    "\n",
    "print(Sr_mean, Sr_delta)\n",
    "\n",
    "# find ratios and uncertainty of the ratios\n",
    "Sr_ratio = Sr_mean/Sr_mean[0] # ratios with respect to slot 6 counts\n",
    "Sr_ratio_delta = Sr_ratio*((Sr_delta/Sr_mean)+(Sr_delta[0]/Sr_mean[0])) \n",
    "# uncertainty of the ratio. Addition since the variables are dependent"
   ]
  },
  {
   "cell_type": "code",
   "execution_count": 37,
   "id": "a9196ab3",
   "metadata": {},
   "outputs": [
    {
     "name": "stdout",
     "output_type": "stream",
     "text": [
      "[ 1.18733749 -7.7529045 ]\n",
      "[ 0.43150496 -2.54801109]\n"
     ]
    }
   ],
   "source": [
    "Am_fit = np.polyfit(slot, np.log(Am_ratio), 1)\n",
    "print(Am_fit)\n",
    "\n",
    "Sr_fit = np.polyfit(slot, np.log(Sr_ratio), 1)\n",
    "print(Sr_fit)"
   ]
  },
  {
   "cell_type": "code",
   "execution_count": 46,
   "id": "a14afa86",
   "metadata": {},
   "outputs": [
    {
     "data": {
      "image/png": "[encoded data removed]",
      "text/plain": [
       "<Figure size 576x432 with 1 Axes>"
      ]
     },
     "metadata": {
      "needs_background": "light"
     },
     "output_type": "display_data"
    }
   ],
   "source": [
    "# plot the curves\n",
    "\n",
    "plt.figure(figsize=(8, 6))\n",
    "plt.plot(slot, Am_ratio, 'x', color = 'r')\n",
    "plt.errorbar(slot, np.exp(Am_fit[1])*np.exp(Am_fit[0])**slot, yerr=Am_ratio_delta,color='pink', label = 'Am-241')\n",
    "plt.plot(slot, Sr_ratio, 'x', color = 'g')\n",
    "plt.errorbar(slot, np.exp(Sr_fit[1])*np.exp(Sr_fit[0])**slot, yerr=Sr_ratio_delta, color='lightgreen', label = 'Sr-90')\n",
    "plt.xlabel(\"Slot Number\")\n",
    "plt.ylabel(\"Ratio of Counts\")\n",
    "plt.legend(loc='best')\n",
    "plt.show()"
   ]
  },
  {
   "cell_type": "code",
   "execution_count": 66,
   "id": "8a51a3c2",
   "metadata": {},
   "outputs": [
    {
     "name": "stdout",
     "output_type": "stream",
     "text": [
      "297.0 12.5\n",
      "2820.6666666666665 36.0\n",
      "10.77980827578645 261.0637272230613\n"
     ]
    }
   ],
   "source": [
    "# distance data and urface area\n",
    "d = 0.06 # source-detector distance is 60 mm\n",
    "dia = 0.029 # tube window diameter is 29 mm\n",
    "sa = 4*np.pi*d**2 # surface area of a sphere at 60 mm\n",
    "area = np.pi*(dia/2)**2 # area of the GM tube's window\n",
    "\n",
    "# find the mean count and uncertainty for Cs-137\n",
    "Cs137 = [296, 285, 310] # data\n",
    "Cs137_mean = sum(Cs137)/3 # mean number of counts\n",
    "Cs137_delta = (max(Cs137)-min(Cs137))/2\n",
    "print(Cs137_mean, Cs137_delta)\n",
    "\n",
    "# find the mean count and uncertainty for Sr-90\n",
    "Sr90 = [2786, 2818, 2858] # data\n",
    "Sr90_mean = sum(Sr90)/3 # mean number of counts\n",
    "Sr90_delta = (max(Sr90)-min(Sr90))/2\n",
    "print(Sr90_mean, Sr90_delta)\n",
    "\n",
    "# number of radiation particles passing through the detector\n",
    "# calculated using the inverse square law\n",
    "Cs137_part = 0.85*222000*area/sa # only 85% give gamma radiation\n",
    "Sr90_part = 74000*area/sa\n",
    "\n",
    "# calculate efficiency\n",
    "Cs137_eff = 100*Cs137_mean/Cs137_part # gamma efficiency of  GM counter\n",
    "Sr90_eff = 100*Sr90_mean/Sr90_part # beta efficiency of GM counter\n",
    "print(Cs137_eff, Sr90_eff)"
   ]
  }
 ],
 "metadata": {
  "kernelspec": {
   "display_name": "Python 3 (ipykernel)",
   "language": "python",
   "name": "python3"
  },
  "language_info": {
   "codemirror_mode": {
    "name": "ipython",
    "version": 3
   },
   "file_extension": ".py",
   "mimetype": "text/x-python",
   "name": "python",
   "nbconvert_exporter": "python",
   "pygments_lexer": "ipython3",
   "version": "3.8.8"
  }
 },
 "nbformat": 4,
 "nbformat_minor": 5
}
