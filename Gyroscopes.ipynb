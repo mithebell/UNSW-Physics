{
 "cells": [
  {
   "cell_type": "code",
   "execution_count": 1,
   "id": "3a45820d",
   "metadata": {},
   "outputs": [],
   "source": [
    "# Import libraries\n",
    "import numpy as np\n",
    "import pandas as pd\n",
    "import matplotlib.pyplot as plt\n",
    "from scipy import optimize\n",
    "from scipy.odr import *"
   ]
  },
  {
   "cell_type": "code",
   "execution_count": 2,
   "id": "3f6c43b0",
   "metadata": {},
   "outputs": [],
   "source": [
    "# Constants\n",
    "g = 9.81 # m/s^2 gravitational accleleration\n",
    "delta_g = 0.1\n",
    "r = 0.025 # m radius of disk in which the string was wound to\n",
    "delta_r = 0.0005\n",
    "R = 0.122 # m radius of the disk\n",
    "delta_R = 0.0005\n",
    "M = 1.134 # kg mass of the disk\n",
    "delta_M = 0.0005\n",
    "l = 0.275 # m axis of rotation to mass dropped\n",
    "delta_l = 0.0005"
   ]
  },
  {
   "cell_type": "code",
   "execution_count": 3,
   "id": "78947efa",
   "metadata": {},
   "outputs": [],
   "source": [
    "# Linear fit function\n",
    "def linear(p, x):\n",
    "    a, b = p\n",
    "    return a*x+b\n",
    "\n",
    "# Create a model\n",
    "model = Model(linear)"
   ]
  },
  {
   "cell_type": "markdown",
   "id": "ea6cd13f",
   "metadata": {},
   "source": [
    "# Moment of Rotational Inertia\n",
    "Calculating the moment of inertia using 2 techniques\n",
    "- Direct measurement of rotational inertia for the gyroscopic disk\n",
    "- Measurement of precession frequency\n",
    "\n",
    "###  Theoretical value"
   ]
  },
  {
   "cell_type": "code",
   "execution_count": 4,
   "id": "8f27ea09",
   "metadata": {},
   "outputs": [
    {
     "name": "stdout",
     "output_type": "stream",
     "text": [
      "I = 8.44 +/- 0.07 x10^-3 kgm^2\n"
     ]
    }
   ],
   "source": [
    "I_theory = 0.5*M*R**2\n",
    "delta_I_theory = I_theory*((2*delta_R/R)**2+(delta_M/M)**2)**0.5\n",
    "print(\"I = {:.2f} +/- {:.2f}\".format(\n",
    "  I_theory*1000, delta_I_theory*1000)+\" x10^-3 kgm^2\")"
   ]
  },
  {
   "cell_type": "markdown",
   "id": "d7de98bc",
   "metadata": {},
   "source": [
    "###  Moment of Inertia of a Disk"
   ]
  },
  {
   "cell_type": "code",
   "execution_count": 5,
   "id": "057a96db",
   "metadata": {},
   "outputs": [],
   "source": [
    "# Experimental data\n",
    "m = 0.11 # kg hanging mass\n",
    "delta_m = 0.01\n",
    "h = np.array([0.8, 0.7, 0.6, 0.5, 0.4]) # m heights the mass was dropped from\n",
    "h_err = 0.01 # error from parallax\n",
    "t_f = np.array([4.53, 4.38, 3.98, 3.53, 3.33]) # s time to reach the ground\n",
    "t_f_err = np.array([0.075, 0.095, 0.065, 0.05, 0.095]) # due to human reaction time"
   ]
  },
  {
   "cell_type": "code",
   "execution_count": 6,
   "id": "5afb8dc3",
   "metadata": {},
   "outputs": [
    {
     "name": "stdout",
     "output_type": "stream",
     "text": [
      "Beta: [26.19656829  0.04496788]\n",
      "Beta Std Error: [2.38425503 1.46290497]\n",
      "Beta Covariance: [[ 0.9621442  -0.57519006]\n",
      " [-0.57519006  0.36221546]]\n",
      "Residual Variance: 5.908336861795203\n",
      "Inverse Condition #: 0.007162000537710829\n",
      "Reason(s) for Halting:\n",
      "  Sum of squares convergence\n",
      "Line of best fit:y = (26.2 +/- 2.4) * x + (0.0 +/- 1.5)\n"
     ]
    },
    {
     "data": {
      "image/png": "[encoded data removed]",
      "text/plain": [
       "<Figure size 432x288 with 1 Axes>"
      ]
     },
     "metadata": {
      "needs_background": "light"
     },
     "output_type": "display_data"
    }
   ],
   "source": [
    "# Plot the curve\n",
    "\n",
    "# Convert data and error into a form recognised by ODR\n",
    "free_fall = RealData(h, t_f**2, sx=h_err, sy=2*t_f_err)\n",
    "\n",
    "# Set up ODR\n",
    "odr_f = ODR(free_fall, model, beta0=[25, 0.5]) # initial guess is y=25x+0.5\n",
    "\n",
    "# run the regression\n",
    "out_f = odr_f.run()\n",
    "out_f.pprint()\n",
    "\n",
    "print(\"Line of best fit:\"+\"y = ({:.1f} +/- {:.1f}) * x + ({:.1f} +/- {:.1f})\".format(\n",
    "  out_f.beta[0], out_f.sd_beta[0],\n",
    "  out_f.beta[1], out_f.sd_beta[1]))\n",
    "\n",
    "plt.figure()\n",
    "plt.errorbar(h, t_f**2, xerr=h_err, yerr=2*t_f_err, fmt='.', color='red')\n",
    "plt.plot(h, linear(out_f.beta, h), color='blue')\n",
    "\n",
    "plt.xlabel(\"Height, $h$ ($m$)\")\n",
    "plt.ylabel(\"Time Squared, $t_F^2$ ($s^2$)\")\n",
    "\n",
    "plt.show()"
   ]
  },
  {
   "cell_type": "code",
   "execution_count": 7,
   "id": "1bd0d102",
   "metadata": {},
   "outputs": [
    {
     "name": "stdout",
     "output_type": "stream",
     "text": [
      "I = 8.77 +/- 1.18 x10^-3 kgm^2\n"
     ]
    }
   ],
   "source": [
    "# Calculating the moment of inertia\n",
    "I_f = (out_f.beta[0]*m*g*r**2-2*m*r**2)/2\n",
    "delta_I_f = I_f*((out_f.sd_beta[0]/out_f.beta[0])**2\n",
    "                 +(2*delta_r/r)**2+(delta_m/m)**2)**0.5\n",
    "\n",
    "print(\"I = {:.2f} +/- {:.2f}\".format(\n",
    "  I_f*1000, delta_I_f*1000)+\" x10^-3 kgm^2\")"
   ]
  },
  {
   "cell_type": "markdown",
   "id": "1326dfd6",
   "metadata": {},
   "source": [
    "within uncertainty"
   ]
  },
  {
   "cell_type": "markdown",
   "id": "3850babd",
   "metadata": {},
   "source": [
    "### Precession Frequency"
   ]
  },
  {
   "cell_type": "code",
   "execution_count": 8,
   "id": "290044eb",
   "metadata": {},
   "outputs": [],
   "source": [
    "# Experimental data\n",
    "mass = np.array([0.06, 0.06, 0.06, 0.07, 0.07, 0.07, 0.08, 0.08, 0.08, 0.09, 0.09, 0.09])\n",
    "delta_mass = delta_m\n",
    "tau = mass*g*l\n",
    "delta_tau = tau*((delta_mass/mass)**2+(delta_g/g)**2+(delta_m/m)**2)**0.5\n",
    "w_s1 = 40*np.pi/np.array([2.77, 2.75, 3.81, 3.1, 2.97, 2.69, 2.83, 2.77, 2.89, 2.56, 4.06, 2.89])\n",
    "w_s2 = 40*np.pi/np.array([5.06, 4.15, 6.18, 5.17, 4.75, 6.47, 4.32, 4.19, 4.38, 4.52, 6.67, 4.6])\n",
    "w_s = (w_s1+w_s2)/2 # mean of 2 w_s\n",
    "delta_w_s = abs(w_s1-w_s2) # error before and after precession\n",
    "t_p = np.array([13.65, 15.23, 11.08, 10.93, 11.33, 11.45, 10.91, 9.96, 10.88, 9.93, 7.23, 9.45])\n",
    "w_p = 2*np.pi/t_p\n",
    "delta_w_p = 2*np.pi*(1/(t_p-0.5)-1/(t_p+0.5)) # the error in time is 0.5 second\n",
    "delta_y=tau/w_s*((delta_tau/tau)**2+(delta_w_s/w_s)**2)**0.5"
   ]
  },
  {
   "cell_type": "code",
   "execution_count": 9,
   "id": "c7d196e8",
   "metadata": {},
   "outputs": [
    {
     "name": "stdout",
     "output_type": "stream",
     "text": [
      "Beta: [ 0.01041028 -0.00015257]\n",
      "Beta Std Error: [0.00096484 0.00054193]\n",
      "Beta Covariance: [[ 7.74804021e-05 -4.28780466e-05]\n",
      " [-4.28780466e-05  2.44435535e-05]]\n",
      "Residual Variance: 0.012014751460906485\n",
      "Inverse Condition #: 0.00038345056349657007\n",
      "Reason(s) for Halting:\n",
      "  Sum of squares convergence\n",
      "Line of best fit:y = (0.010410 +/- 0.000965) * x + (-0.000153 +/- 0.000542)\n"
     ]
    },
    {
     "data": {
      "image/png": "[encoded data removed]",
      "text/plain": [
       "<Figure size 432x288 with 1 Axes>"
      ]
     },
     "metadata": {
      "needs_background": "light"
     },
     "output_type": "display_data"
    },
    {
     "name": "stdout",
     "output_type": "stream",
     "text": [
      "I = 10.41 +/- 0.96 x10^-3 kgm^2\n"
     ]
    }
   ],
   "source": [
    "# Plot the curve\n",
    "\n",
    "# Convert data and error into a form recognised by ODR\n",
    "precession = RealData(w_p, tau/w_s, sx=delta_w_p, sy=delta_y)\n",
    "\n",
    "# Set up ODR\n",
    "odr_p = ODR(precession, model, beta0=[0.0008, 0.2])\n",
    "\n",
    "# run the regression\n",
    "out_p = odr_p.run()\n",
    "out_p.pprint()\n",
    "\n",
    "print(\"Line of best fit:\"+\"y = ({:.6f} +/- {:.6f}) * x + ({:.6f} +/- {:.6f})\".format(\n",
    "  out_p.beta[0], out_p.sd_beta[0],\n",
    "  out_p.beta[1], out_p.sd_beta[1]))\n",
    "\n",
    "plt.figure()\n",
    "plt.errorbar(w_p, tau/w_s, xerr=delta_w_p, yerr=delta_y, fmt='.', color='red')\n",
    "plt.plot(w_p, linear(out_p.beta, w_p), color='blue')\n",
    "\n",
    "plt.xlabel(\"Precession Angular Velocity, $\\omega_p$ ($rad/s$)\")\n",
    "plt.ylabel(\"Torque/Spin Angular Velocity, $τ_p/\\omega_s$ ($kgm^2/s$ $rad$)\")\n",
    "\n",
    "plt.show()\n",
    "\n",
    "print(\"I = {:.2f} +/- {:.2f}\".format(\n",
    "  out_p.beta[0]*1000, out_p.sd_beta[0]*1000)+\" x10^-3 kgm^2\")"
   ]
  },
  {
   "cell_type": "markdown",
   "id": "5607521d",
   "metadata": {},
   "source": [
    "not within uncertainty\n",
    "### Another Method of Precession"
   ]
  },
  {
   "cell_type": "code",
   "execution_count": 10,
   "id": "698c650b",
   "metadata": {},
   "outputs": [],
   "source": [
    "# Experimental data\n",
    "mass2 = np.array([0.06, 0.07, 0.08, 0.09])\n",
    "delta_mass2 = delta_m\n",
    "tau2 = mass2*g*l\n",
    "delta_tau2 = tau2*((delta_mass2/mass2)**2+(delta_g/g)**2+(delta_m/m)**2)**0.5\n",
    "w_s2 = np.array([np.mean(w_s[:3]),np.mean(w_s[3:6]),np.mean(w_s[6:9]),np.mean(w_s[9:])])\n",
    "delta_w_s2 = np.array([np.mean(delta_w_s[:3]),np.mean(delta_w_s[3:6]),np.mean(delta_w_s[6:9]),np.mean(delta_w_s[9:])])\n",
    "w_p2 = np.array([np.mean(w_p[:3]),np.mean(w_p[3:6]),np.mean(w_p[6:9]),np.mean(w_p[9:])])\n",
    "delta_w_p2 = np.array([np.mean(delta_w_p[:3]),np.mean(delta_w_p[3:6]),np.mean(delta_w_p[6:9]),np.mean(delta_w_p[9:])])\n",
    "delta_x = w_s2*w_p2*((delta_w_s2/w_s2)**2+(delta_w_p2/w_p2)**2)**0.5"
   ]
  },
  {
   "cell_type": "code",
   "execution_count": 11,
   "id": "65820108",
   "metadata": {},
   "outputs": [
    {
     "name": "stdout",
     "output_type": "stream",
     "text": [
      "Beta: [0.0098808  0.00359674]\n",
      "Beta Std Error: [0.00067299 0.01320049]\n",
      "Beta Covariance: [[ 0.00027867 -0.00539974]\n",
      " [-0.00539974  0.10721451]]\n",
      "Residual Variance: 0.0016252744328330154\n",
      "Inverse Condition #: 0.011434703125549525\n",
      "Reason(s) for Halting:\n",
      "  Sum of squares convergence\n",
      "Line of best fit:y = (0.009881 +/- 0.000673) * x + (0.003597 +/- 0.013200)\n"
     ]
    },
    {
     "data": {
      "image/png": "[encoded data removed]",
      "text/plain": [
       "<Figure size 432x288 with 1 Axes>"
      ]
     },
     "metadata": {
      "needs_background": "light"
     },
     "output_type": "display_data"
    },
    {
     "name": "stdout",
     "output_type": "stream",
     "text": [
      "I = 9.88 +/- 0.67 x10^-3 kgm^2\n"
     ]
    }
   ],
   "source": [
    "# Plot the curve\n",
    "\n",
    "# Convert data and error into a form recognised by ODR\n",
    "precession2 = RealData(w_s2*w_p2, tau2, sx=delta_x, sy=delta_tau2)\n",
    "\n",
    "# Set up ODR\n",
    "odr_p2 = ODR(precession2, model, beta0=[0.0008, 0.2])\n",
    "\n",
    "# run the regression\n",
    "out_p2 = odr_p2.run()\n",
    "out_p2.pprint()\n",
    "\n",
    "print(\"Line of best fit:\"+\"y = ({:.6f} +/- {:.6f}) * x + ({:.6f} +/- {:.6f})\".format(\n",
    "  out_p2.beta[0], out_p2.sd_beta[0],\n",
    "  out_p2.beta[1], out_p2.sd_beta[1]))\n",
    "\n",
    "plt.figure()\n",
    "plt.errorbar(w_s2*w_p2, tau2, xerr=delta_x, yerr=delta_tau2, fmt='.', color='red')\n",
    "plt.plot(w_s2*w_p2, linear(out_p2.beta, w_s2*w_p2), color='blue')\n",
    "\n",
    "plt.xlabel(\"Precession Angular Velocity.Spin Angular Velocity, $\\omega_p\\omega_s$ ($rad^2/s^2$)\")\n",
    "plt.ylabel(\"Torque, $τ_p$ ($kgm^2/s^2$)\")\n",
    "\n",
    "plt.show()\n",
    "\n",
    "print(\"I = {:.2f} +/- {:.2f}\".format(\n",
    "  out_p2.beta[0]*1000, out_p2.sd_beta[0]*1000)+\" x10^-3 kgm^2\")"
   ]
  },
  {
   "cell_type": "markdown",
   "id": "e901d44c",
   "metadata": {},
   "source": [
    "# Nutation"
   ]
  },
  {
   "cell_type": "code",
   "execution_count": 12,
   "id": "d5996fcf",
   "metadata": {},
   "outputs": [],
   "source": [
    "# Experimental Data\n",
    "ws1 = 2*np.pi/np.array([8.33/53, 4.86/24, 5.86/36, 7.02/41, 6.44/37, 8/42, 9.57/57, 7.49/48])\n",
    "ws2 = 40*np.pi/np.array([6.11, 5.84, 7.61, 6.23, 5.25, 6.37, 6.11, 4.54])\n",
    "ws = (ws1+ws2)/2\n",
    "delta_ws = abs(ws1-ws2)\n",
    "tn = np.array([5.3, 5.69, 5.06, 5.33, 5.66, 5.93, 4.76, 4.16])/5\n",
    "wn = 2*np.pi/tn\n",
    "delta_wn = 2*np.pi*(1/(tn-0.1)-1/(tn+0.1)) # the error in time is 0.5 second"
   ]
  },
  {
   "cell_type": "code",
   "execution_count": 13,
   "id": "6818bfe1",
   "metadata": {},
   "outputs": [
    {
     "name": "stdout",
     "output_type": "stream",
     "text": [
      "Beta: [ 0.32928437 -3.49575233]\n",
      "Beta Std Error: [0.08663213 2.49525264]\n",
      "Beta Covariance: [[  0.57119406 -16.403135  ]\n",
      " [-16.403135   473.86515038]]\n",
      "Residual Variance: 0.0131393619640984\n",
      "Inverse Condition #: 0.000106841509025454\n",
      "Reason(s) for Halting:\n",
      "  Sum of squares convergence\n",
      "Line of best fit:y = (0.33 +/- 0.09) * x + (-3.50 +/- 2.50)\n"
     ]
    },
    {
     "data": {
      "image/png": "[encoded data removed]",
      "text/plain": [
       "<Figure size 432x288 with 1 Axes>"
      ]
     },
     "metadata": {
      "needs_background": "light"
     },
     "output_type": "display_data"
    }
   ],
   "source": [
    "# Plot the curve\n",
    "\n",
    "# Convert data and error into a form recognised by ODR\n",
    "nutation = RealData(ws, wn, sx=delta_ws, sy=delta_wn)\n",
    "\n",
    "# Set up ODR\n",
    "odr_n = ODR(nutation, model, beta0=[2.5, 0.1])\n",
    "\n",
    "# run the regression\n",
    "out_n = odr_n.run()\n",
    "out_n.pprint()\n",
    "\n",
    "print(\"Line of best fit:\"+\"y = ({:.2f} +/- {:.2f}) * x + ({:.2f} +/- {:.2f})\".format(\n",
    "  out_n.beta[0], out_n.sd_beta[0],\n",
    "  out_n.beta[1], out_n.sd_beta[1]))\n",
    "\n",
    "plt.figure()\n",
    "plt.errorbar(ws, wn, xerr=delta_ws, yerr=delta_wn, fmt='.', color='red')\n",
    "plt.plot(ws, linear(out_n.beta, ws), color='blue')\n",
    "\n",
    "plt.xlabel(\"Spin Angular Velocity, $\\omega_s$ ($rad/s$)\")\n",
    "plt.ylabel(\"Nutation Angular Velocity, $\\omega_n$ ($rad/s$)\")\n",
    "\n",
    "plt.show()"
   ]
  },
  {
   "cell_type": "markdown",
   "id": "39ae280f",
   "metadata": {},
   "source": [
    "#### Improvements:\n",
    "- more masses for the precesion part and then plot the torque against the ratio of spin and precession angular velocities\n",
    "- measure the final spin time immediately after the precession or nutation\n",
    "- drop different masses whilst keeping the velocity relatively constant for nutation to get relationship between nutation and strength of knock\n",
    "- Experiment with having 2 disks"
   ]
  }
 ],
 "metadata": {
  "kernelspec": {
   "display_name": "Python 3 (ipykernel)",
   "language": "python",
   "name": "python3"
  },
  "language_info": {
   "codemirror_mode": {
    "name": "ipython",
    "version": 3
   },
   "file_extension": ".py",
   "mimetype": "text/x-python",
   "name": "python",
   "nbconvert_exporter": "python",
   "pygments_lexer": "ipython3",
   "version": "3.9.12"
  }
 },
 "nbformat": 4,
 "nbformat_minor": 5
}
