{
 "cells": [
  {
   "cell_type": "code",
   "execution_count": 1,
   "id": "be8e7876",
   "metadata": {},
   "outputs": [],
   "source": [
    "# Import libraries\n",
    "import numpy as np\n",
    "import pandas as pd\n",
    "import matplotlib.pyplot as plt\n",
    "from scipy import optimize\n",
    "from scipy.odr import *\n",
    "import scipy.stats"
   ]
  },
  {
   "cell_type": "code",
   "execution_count": 2,
   "id": "9c65cb4e",
   "metadata": {},
   "outputs": [],
   "source": [
    "# Constants\n",
    "g = 9.81 # m/s^2 gravitational accleleration\n",
    "delta_g = 0.1\n",
    "r = 0.025 # m radius of disk in which the string was wound to\n",
    "delta_r = 0.0005\n",
    "R = 0.122 # m radius of the disk\n",
    "delta_R = 0.0005\n",
    "M = 1.134 # kg mass of the disk\n",
    "delta_M = 0.005\n",
    "l = 0.275 # m axis of rotation to mass dropped\n",
    "delta_l = 0.0005"
   ]
  },
  {
   "cell_type": "code",
   "execution_count": 3,
   "id": "c3acfb03",
   "metadata": {},
   "outputs": [],
   "source": [
    "# Linear fit function\n",
    "def linear(p, x):\n",
    "    a, b = p\n",
    "    return a*x+b\n",
    "\n",
    "# Create a model\n",
    "model = Model(linear)"
   ]
  },
  {
   "cell_type": "markdown",
   "id": "495dc67d",
   "metadata": {},
   "source": [
    "# Moment of Rotational Inertia\n",
    "Calculating the moment of inertia using 2 techniques\n",
    "- Direct measurement of rotational inertia for the gyroscopic disk\n",
    "- Measurement of precession frequency\n",
    "\n",
    "###  Theoretical value"
   ]
  },
  {
   "cell_type": "code",
   "execution_count": 4,
   "id": "82013aca",
   "metadata": {},
   "outputs": [
    {
     "name": "stdout",
     "output_type": "stream",
     "text": [
      "I = 8.44 +/- 0.08 x10^-3 kgm^2\n"
     ]
    }
   ],
   "source": [
    "I_theory = 0.5*M*R**2\n",
    "delta_I_theory = I_theory*((2*delta_R/R)**2+(delta_M/M)**2)**0.5\n",
    "print(\"I = {:.2f} +/- {:.2f}\".format(\n",
    "  I_theory*1000, delta_I_theory*1000)+\" x10^-3 kgm^2\")"
   ]
  },
  {
   "cell_type": "markdown",
   "id": "abfad7d3",
   "metadata": {},
   "source": [
    "###  Moment of Inertia of a Disk"
   ]
  },
  {
   "cell_type": "code",
   "execution_count": 5,
   "id": "13d72c45",
   "metadata": {},
   "outputs": [],
   "source": [
    "# Experimental data\n",
    "m = 0.11 # kg hanging mass\n",
    "delta_m = 0.001\n",
    "h = np.array([0.8, 0.7, 0.6, 0.5, 0.4]) # m heights the mass was dropped from\n",
    "h_err = 0.01 # error from parallax\n",
    "t_f = np.array([4.53, 4.38, 3.98, 3.53, 3.33]) # s time to reach the ground\n",
    "t_f_err = np.array([0.075, 0.095, 0.065, 0.05, 0.095]) # due to human reaction time"
   ]
  },
  {
   "cell_type": "code",
   "execution_count": 6,
   "id": "657e7fdb",
   "metadata": {},
   "outputs": [
    {
     "name": "stdout",
     "output_type": "stream",
     "text": [
      "Beta: [26.19656829  0.04496788]\n",
      "Beta Std Error: [2.38425503 1.46290497]\n",
      "Beta Covariance: [[ 0.9621442  -0.57519006]\n",
      " [-0.57519006  0.36221546]]\n",
      "Residual Variance: 5.908336861795203\n",
      "Inverse Condition #: 0.007162000537710829\n",
      "Reason(s) for Halting:\n",
      "  Sum of squares convergence\n",
      "Line of best fit:y = (26.2 +/- 2.4) * x + (0.0 +/- 1.5)\n"
     ]
    },
    {
     "data": {
      "image/png": "[encoded data removed]",
      "text/plain": [
       "<Figure size 432x288 with 1 Axes>"
      ]
     },
     "metadata": {
      "needs_background": "light"
     },
     "output_type": "display_data"
    }
   ],
   "source": [
    "# Plot the curve\n",
    "\n",
    "# Convert data and error into a form recognised by ODR\n",
    "free_fall = RealData(h, t_f**2, sx=h_err, sy=2*t_f_err)\n",
    "\n",
    "# Set up ODR\n",
    "odr_f = ODR(free_fall, model, beta0=[25, 0.5]) # initial guess is y=25x+0.5\n",
    "\n",
    "# run the regression\n",
    "out_f = odr_f.run()\n",
    "out_f.pprint()\n",
    "\n",
    "print(\"Line of best fit:\"+\"y = ({:.1f} +/- {:.1f}) * x + ({:.1f} +/- {:.1f})\".format(\n",
    "  out_f.beta[0], out_f.sd_beta[0],\n",
    "  out_f.beta[1], out_f.sd_beta[1]))\n",
    "\n",
    "plt.figure()\n",
    "plt.errorbar(h, t_f**2, xerr=h_err, yerr=2*t_f_err, fmt='.', color='red')\n",
    "plt.plot(h, linear(out_f.beta, h), color='blue')\n",
    "\n",
    "plt.xlabel(\"Height, $h$ ($m$)\")\n",
    "plt.ylabel(\"Time Squared, $t_F^2$ ($s^2$)\")\n",
    "\n",
    "plt.show()"
   ]
  },
  {
   "cell_type": "code",
   "execution_count": 7,
   "id": "f29201f3",
   "metadata": {},
   "outputs": [
    {
     "name": "stdout",
     "output_type": "stream",
     "text": [
      "I = 8.77 +/- 0.88 x10^-3 kgm^2\n"
     ]
    }
   ],
   "source": [
    "# Calculating the moment of inertia\n",
    "I_f = (out_f.beta[0]*m*g*r**2-2*m*r**2)/2\n",
    "delta_I_f = I_f*((out_f.sd_beta[0]/out_f.beta[0])**2\n",
    "                 +(2*delta_r/r)**2+(delta_m/m)**2+(delta_g/g)**2)**0.5\n",
    "\n",
    "print(\"I = {:.2f} +/- {:.2f}\".format(\n",
    "  I_f*1000, delta_I_f*1000)+\" x10^-3 kgm^2\")"
   ]
  },
  {
   "cell_type": "code",
   "execution_count": 8,
   "id": "16408888",
   "metadata": {},
   "outputs": [
    {
     "data": {
      "text/plain": [
       "0.975957269267263"
      ]
     },
     "execution_count": 8,
     "metadata": {},
     "output_type": "execute_result"
    }
   ],
   "source": [
    "slope, intercept, r_value, p_value, std_err = scipy.stats.linregress(h, t_f**2)\n",
    "\n",
    "r_value**2"
   ]
  },
  {
   "cell_type": "markdown",
   "id": "9df63a62",
   "metadata": {},
   "source": [
    "within uncertainty"
   ]
  },
  {
   "cell_type": "markdown",
   "id": "dddacc5e",
   "metadata": {},
   "source": [
    "### Precession Frequency (changing both mass and spin) - Not used in report\n"
   ]
  },
  {
   "cell_type": "code",
   "execution_count": 9,
   "id": "a4672957",
   "metadata": {},
   "outputs": [],
   "source": [
    "# Experimental data\n",
    "mass = np.array([0.06, 0.06, 0.06, 0.07, 0.07, 0.07, 0.08, 0.08, 0.08, 0.09, 0.09, 0.09])\n",
    "delta_mass = delta_m\n",
    "tau = mass*g*l\n",
    "delta_tau = tau*((delta_mass/mass)**2+(delta_g/g)**2+(delta_l/l)**2)**0.5\n",
    "w_s1 = 40*np.pi/np.array([2.77, 2.75, 3.81, 3.1, 2.97, 2.69, 2.83, 2.77, 2.89, 2.56, 4.06, 2.89])\n",
    "w_s2 = 40*np.pi/np.array([5.06, 4.15, 6.18, 5.17, 4.75, 6.47, 4.32, 4.19, 4.38, 4.52, 6.67, 4.6])\n",
    "w_s = (w_s1+w_s2)/2 # mean of 2 w_s\n",
    "delta_w_s = abs(w_s1-w_s2)/2 # range/2\n",
    "t_p = np.array([13.65, 15.23, 11.08, 10.93, 11.33, 11.45, 10.91, 9.96, 10.88, 9.93, 7.23, 9.45])\n",
    "delta_t_p = 0.1\n",
    "delta_y=tau/w_s*((delta_tau/tau)**2+(delta_w_s/w_s)**2)**0.5\n",
    "w_p = 2*np.pi/t_p\n",
    "delta_w_p = 2*np.pi*delta_t_p/(t_p)**2"
   ]
  },
  {
   "cell_type": "code",
   "execution_count": 10,
   "id": "97b323df",
   "metadata": {},
   "outputs": [
    {
     "name": "stdout",
     "output_type": "stream",
     "text": [
      "Beta: [ 1.03089602e-02 -9.80246168e-05]\n",
      "Beta Std Error: [0.00096812 0.00054276]\n",
      "Beta Covariance: [[ 1.63786455e-05 -9.04571456e-06]\n",
      " [-9.04571456e-06  5.14802829e-06]]\n",
      "Residual Variance: 0.05722429108178277\n",
      "Inverse Condition #: 0.0003848863217622281\n",
      "Reason(s) for Halting:\n",
      "  Sum of squares convergence\n",
      "Line of best fit:y = (0.010309 +/- 0.000968) * x + (-0.000098 +/- 0.000543)\n"
     ]
    },
    {
     "data": {
      "image/png": "[encoded data removed]",
      "text/plain": [
       "<Figure size 432x288 with 1 Axes>"
      ]
     },
     "metadata": {
      "needs_background": "light"
     },
     "output_type": "display_data"
    },
    {
     "name": "stdout",
     "output_type": "stream",
     "text": [
      "I = 10.31 +/- 0.97 x10^-3 kgm^2\n"
     ]
    }
   ],
   "source": [
    "# Plot the curve\n",
    "\n",
    "# Convert data and error into a form recognised by ODR\n",
    "precession = RealData(w_p, tau/w_s, sx=delta_w_p, sy=delta_y)\n",
    "\n",
    "# Set up ODR\n",
    "odr_p = ODR(precession, model, beta0=[0.0008, 0.2])\n",
    "\n",
    "# run the regression\n",
    "out_p = odr_p.run()\n",
    "out_p.pprint()\n",
    "\n",
    "print(\"Line of best fit:\"+\"y = ({:.6f} +/- {:.6f}) * x + ({:.6f} +/- {:.6f})\".format(\n",
    "  out_p.beta[0], out_p.sd_beta[0],\n",
    "  out_p.beta[1], out_p.sd_beta[1]))\n",
    "\n",
    "plt.figure()\n",
    "plt.errorbar(w_p, tau/w_s, xerr=delta_w_p, yerr=delta_y, fmt='.', color='red')\n",
    "plt.plot(w_p, linear(out_p.beta, w_p), color='blue')\n",
    "\n",
    "plt.xlabel(\"Precession Angular Velocity, $\\omega_p$ ($rad/s$)\")\n",
    "plt.ylabel(\"Torque/Spin Angular Velocity, $τ_p/\\omega_s$ ($kgm^2/s$ $rad$)\")\n",
    "\n",
    "plt.show()\n",
    "\n",
    "print(\"I = {:.2f} +/- {:.2f}\".format(\n",
    "  out_p.beta[0]*1000, out_p.sd_beta[0]*1000)+\" x10^-3 kgm^2\")"
   ]
  },
  {
   "cell_type": "markdown",
   "id": "a3ce3349",
   "metadata": {},
   "source": [
    "not within uncertainty\n",
    "### Precession- Torque Dependent Measurements"
   ]
  },
  {
   "cell_type": "code",
   "execution_count": 11,
   "id": "111a3404",
   "metadata": {},
   "outputs": [],
   "source": [
    "# Experimental data\n",
    "mass2 = np.array([0.06, 0.07, 0.08, 0.09, 0.1])\n",
    "delta_mass2 = delta_m\n",
    "tau2 = mass2*g*l\n",
    "delta_tau2 = tau2*((delta_mass2/mass2)**2+(delta_g/g)**2+(delta_l/l)**2)**0.5\n",
    "t_s_2 = 0.194273333 \n",
    "delta_t_s_2 = 0.02825\n",
    "w_s_2 = 4*np.pi/t_s_2\n",
    "delta_w_s_2 = 2*np.pi*delta_t_s_2/(t_s_2)**2\n",
    "t_p2 = np.array([12.98666667, 11.23666667, 10.58333333, 9.536666667, 9.233333333])\n",
    "delta_t_p2 = np.array([0.785, 0.26, 0.475, 0.35, 0.44])\n",
    "w_p2 = 2*np.pi/t_p2\n",
    "delta_w_p2 = 2*np.pi*delta_t_p2/(t_p2)**2"
   ]
  },
  {
   "cell_type": "code",
   "execution_count": 12,
   "id": "559bd9c7",
   "metadata": {},
   "outputs": [
    {
     "name": "stdout",
     "output_type": "stream",
     "text": [
      "Beta: [ 0.55880424 -0.119935  ]\n",
      "Beta Std Error: [0.06297994 0.03687903]\n",
      "Beta Covariance: [[ 0.0102079  -0.0059504 ]\n",
      " [-0.0059504   0.00350019]]\n",
      "Residual Variance: 0.3885687449701951\n",
      "Inverse Condition #: 0.005282775081120495\n",
      "Reason(s) for Halting:\n",
      "  Sum of squares convergence\n",
      "Line of best fit:y = (0.558804 +/- 0.062980) * x + (-0.119935 +/- 0.036879)\n"
     ]
    },
    {
     "data": {
      "image/png": "[encoded data removed]",
      "text/plain": [
       "<Figure size 432x288 with 1 Axes>"
      ]
     },
     "metadata": {
      "needs_background": "light"
     },
     "output_type": "display_data"
    }
   ],
   "source": [
    "# Plot the curve\n",
    "\n",
    "# Convert data and error into a form recognised by ODR\n",
    "precession2 = RealData(w_p2, tau2, sx=delta_w_p2, sy=delta_tau2)\n",
    "\n",
    "# Set up ODR\n",
    "odr_p2 = ODR(precession2, model, beta0=[0.03, 0.3])\n",
    "\n",
    "# run the regression\n",
    "out_p2 = odr_p2.run()\n",
    "out_p2.pprint()\n",
    "\n",
    "print(\"Line of best fit:\"+\"y = ({:.6f} +/- {:.6f}) * x + ({:.6f} +/- {:.6f})\".format(\n",
    "  out_p2.beta[0], out_p2.sd_beta[0],\n",
    "  out_p2.beta[1], out_p2.sd_beta[1]))\n",
    "\n",
    "plt.figure()\n",
    "plt.errorbar(w_p2, tau2, xerr=delta_w_p2, yerr=delta_tau2, fmt='.', color='red')\n",
    "plt.plot(w_p2, linear(out_p2.beta, w_p2), color='blue')\n",
    "\n",
    "plt.xlabel(\"Precession Angular Velocity, $\\omega_p$ ($s^{-1}$)\")\n",
    "plt.ylabel(\"Torque, $τ_p$ ($kgm^2/s^2$)\")\n",
    "\n",
    "plt.show()"
   ]
  },
  {
   "cell_type": "code",
   "execution_count": 13,
   "id": "b4be6f54",
   "metadata": {},
   "outputs": [
    {
     "name": "stdout",
     "output_type": "stream",
     "text": [
      "I = 8.64 +/- 1.16 x10^-3 kgm^2\n"
     ]
    }
   ],
   "source": [
    "I_p2 = out_p2.beta[0]/w_s_2\n",
    "delta_I_p2 = I_p2*((out_p2.sd_beta[0]/out_p2.beta[0])**2\n",
    "                 +(delta_w_s_2/w_s_2)**2)**0.5\n",
    "\n",
    "print(\"I = {:.2f} +/- {:.2f}\".format(\n",
    "  I_p2*1000, delta_I_p2*1000)+\" x10^-3 kgm^2\")"
   ]
  },
  {
   "cell_type": "code",
   "execution_count": 14,
   "id": "7d4292df",
   "metadata": {},
   "outputs": [
    {
     "data": {
      "text/plain": [
       "0.9710500880091066"
      ]
     },
     "execution_count": 14,
     "metadata": {},
     "output_type": "execute_result"
    }
   ],
   "source": [
    "slope, intercept, r_value, p_value, std_err = scipy.stats.linregress(w_p2, tau2)\n",
    "\n",
    "r_value**2"
   ]
  },
  {
   "cell_type": "markdown",
   "id": "3edc9135",
   "metadata": {},
   "source": [
    "### Precession Frequency and Spin Frequency"
   ]
  },
  {
   "cell_type": "code",
   "execution_count": 25,
   "id": "1a2502cb",
   "metadata": {},
   "outputs": [],
   "source": [
    "mass3 = 0.05 #kg\n",
    "delta_mass3 = delta_m\n",
    "tau3 = mass3*g*l\n",
    "delta_tau3 = tau3*((delta_mass3/mass3)**2+(delta_g/g)**2+(delta_l/l)**2)**0.5\n",
    "\n",
    "\n",
    "data = pd.read_csv('wp-vs-ws.txt', sep='\\t', header = 0) # data for varying magnetic field\n",
    "data.columns = ['Ts1', 'Ts2', 'Tsav', 'dTsav', 'Tp', 'dTp'] #column headings\n",
    "T_s = data.Tsav\n",
    "delta_T_s = data.dTsav\n",
    "T_p = data.Tp/2\n",
    "delta_T_p = data.dTp\n",
    "\n",
    "w_s_3 = 2*np.pi/T_s\n",
    "delta_w_s_3 =w_s_3*delta_T_s/T_s\n",
    "w_p3 = 2*np.pi/T_p\n",
    "delta_w_p3 =w_p3*delta_T_p/T_p\n",
    "delta_x =delta_w_s_3/w_s_3**2"
   ]
  },
  {
   "cell_type": "code",
   "execution_count": 26,
   "id": "56b07797",
   "metadata": {},
   "outputs": [
    {
     "name": "stdout",
     "output_type": "stream",
     "text": [
      "Beta: [11.6238881  -0.01740849]\n",
      "Beta Std Error: [3.36227398 0.07103464]\n",
      "Beta Covariance: [[ 1.61798425e+02 -3.39652592e+00]\n",
      " [-3.39652592e+00  7.22185051e-02]]\n",
      "Residual Variance: 0.06987018771192217\n",
      "Inverse Condition #: 0.002337790900272118\n",
      "Reason(s) for Halting:\n",
      "  Sum of squares convergence\n",
      "Line of best fit:y = (11.623888 +/- 3.362274) * x + (-0.017408 +/- 0.071035)\n"
     ]
    },
    {
     "data": {
      "image/png": "[encoded data removed]",
      "text/plain": [
       "<Figure size 432x288 with 1 Axes>"
      ]
     },
     "metadata": {
      "needs_background": "light"
     },
     "output_type": "display_data"
    }
   ],
   "source": [
    "# Plot the curve\n",
    "\n",
    "# Convert data and error into a form recognised by ODR\n",
    "precession3 = RealData(1/w_s_3, w_p3, sx=delta_x, sy=delta_w_p3)\n",
    "\n",
    "# Set up ODR\n",
    "odr_p3 = ODR(precession3, model, beta0=[0.1, 0.3])\n",
    "\n",
    "# run the regression\n",
    "out_p3 = odr_p3.run()\n",
    "out_p3.pprint()\n",
    "\n",
    "print(\"Line of best fit:\"+\"y = ({:.6f} +/- {:.6f}) * x + ({:.6f} +/- {:.6f})\".format(\n",
    "  out_p3.beta[0], out_p3.sd_beta[0],\n",
    "  out_p3.beta[1], out_p3.sd_beta[1]))\n",
    "\n",
    "plt.figure()\n",
    "plt.errorbar(1/w_s_3, w_p3, xerr=delta_x, yerr=delta_w_p3, fmt='.', color='red')\n",
    "plt.plot(1/w_s_3, linear(out_p3.beta, 1/w_s_3), color='blue')\n",
    "\n",
    "plt.xlabel(\"1/Spin Angular Velocity, $1/\\omega_s$ ($s$)\")\n",
    "plt.ylabel(\"Precession Angular Velocity, $\\omega_p$ ($s^{-1}$)\")\n",
    "\n",
    "plt.show()"
   ]
  },
  {
   "cell_type": "code",
   "execution_count": 27,
   "id": "94be7373",
   "metadata": {},
   "outputs": [
    {
     "name": "stdout",
     "output_type": "stream",
     "text": [
      "I = 11.60 +/- 3.37 x10^-3 kgm^2\n"
     ]
    }
   ],
   "source": [
    "I_p3 = tau3/out_p3.beta[0]\n",
    "delta_I_p3 = I_p3*((out_p3.sd_beta[0]/out_p3.beta[0])**2\n",
    "                 +(delta_tau3/tau3)**2)**0.5\n",
    "\n",
    "print(\"I = {:.2f} +/- {:.2f}\".format(\n",
    "  I_p3*1000, delta_I_p3*1000)+\" x10^-3 kgm^2\")"
   ]
  },
  {
   "cell_type": "code",
   "execution_count": 28,
   "id": "f45d4e53",
   "metadata": {},
   "outputs": [
    {
     "data": {
      "text/plain": [
       "0.6445432734022871"
      ]
     },
     "execution_count": 28,
     "metadata": {},
     "output_type": "execute_result"
    }
   ],
   "source": [
    "slope, intercept, r_value, p_value, std_err = scipy.stats.linregress(1/w_s_3, w_p3)\\\n",
    "\n",
    "r_value**2"
   ]
  },
  {
   "cell_type": "markdown",
   "id": "fdf41a47",
   "metadata": {},
   "source": [
    "# Nutation"
   ]
  },
  {
   "cell_type": "code",
   "execution_count": 38,
   "id": "d697f433",
   "metadata": {},
   "outputs": [],
   "source": [
    "# Experimental Data\n",
    "ws1 = 2*np.pi/np.array([8.33/53, 4.86/24, 5.86/36, 7.02/41, 6.44/37, 8/42, 9.57/57, 7.49/48])\n",
    "ws2 = 40*np.pi/np.array([6.11, 5.84, 7.61, 6.23, 5.25, 6.37, 6.11, 4.54])\n",
    "ws = (ws1+ws2)/2\n",
    "delta_ws = abs(ws1-ws2)/2\n",
    "tn = np.array([5.3, 5.69, 5.06, 5.33, 5.66, 5.93, 4.76, 4.16])/5\n",
    "wn = 2*np.pi/tn\n",
    "delta_wn = wn*0.02/tn"
   ]
  },
  {
   "cell_type": "code",
   "execution_count": 39,
   "id": "24542f6f",
   "metadata": {},
   "outputs": [
    {
     "name": "stdout",
     "output_type": "stream",
     "text": [
      "Beta: [ 0.33358946 -3.61903872]\n",
      "Beta Std Error: [0.08621945 2.48980897]\n",
      "Beta Covariance: [[  0.13346437  -3.84252211]\n",
      " [ -3.84252211 111.29787723]]\n",
      "Residual Variance: 0.05569871484494971\n",
      "Inverse Condition #: 0.00010727692348783366\n",
      "Reason(s) for Halting:\n",
      "  Sum of squares convergence\n",
      "Line of best fit:y = (0.33 +/- 0.09) * x + (-3.62 +/- 2.49)\n"
     ]
    },
    {
     "data": {
      "image/png": "[encoded data removed]",
      "text/plain": [
       "<Figure size 432x288 with 1 Axes>"
      ]
     },
     "metadata": {
      "needs_background": "light"
     },
     "output_type": "display_data"
    }
   ],
   "source": [
    "# Plot the curve\n",
    "\n",
    "# Convert data and error into a form recognised by ODR\n",
    "nutation = RealData(ws, wn, sx=delta_ws, sy=delta_wn)\n",
    "\n",
    "# Set up ODR\n",
    "odr_n = ODR(nutation, model, beta0=[2.5, 0.1])\n",
    "\n",
    "# run the regression\n",
    "out_n = odr_n.run()\n",
    "out_n.pprint()\n",
    "\n",
    "print(\"Line of best fit:\"+\"y = ({:.2f} +/- {:.2f}) * x + ({:.2f} +/- {:.2f})\".format(\n",
    "  out_n.beta[0], out_n.sd_beta[0],\n",
    "  out_n.beta[1], out_n.sd_beta[1]))\n",
    "\n",
    "plt.figure()\n",
    "plt.errorbar(ws, wn, xerr=delta_ws, yerr=delta_wn, fmt='.', color='red')\n",
    "plt.plot(ws, linear(out_n.beta, ws), color='blue')\n",
    "\n",
    "plt.xlabel(\"Spin Angular Velocity, $\\omega_s$ ($rad/s$)\")\n",
    "plt.ylabel(\"Nutation Angular Velocity, $\\omega_n$ ($rad/s$)\")\n",
    "\n",
    "plt.show()"
   ]
  },
  {
   "cell_type": "code",
   "execution_count": 40,
   "id": "fc7a9fd7",
   "metadata": {},
   "outputs": [
    {
     "data": {
      "text/plain": [
       "0.6203936508379397"
      ]
     },
     "execution_count": 40,
     "metadata": {},
     "output_type": "execute_result"
    }
   ],
   "source": [
    "slope, intercept, r_value, p_value, std_err = scipy.stats.linregress(ws, wn)\\\n",
    "\n",
    "r_value**2"
   ]
  },
  {
   "cell_type": "markdown",
   "id": "02a92cfc",
   "metadata": {},
   "source": [
    "#### Improvements:\n",
    "- more masses for the precesion part and then plot the torque against the ratio of spin and precession angular velocities\n",
    "- measure the final spin time immediately after the precession or nutation\n",
    "- drop different masses whilst keeping the velocity relatively constant for nutation to get relationship between nutation and strength of knock\n",
    "- Experiment with having 2 disks"
   ]
  },
  {
   "cell_type": "markdown",
   "id": "c4aca28a",
   "metadata": {},
   "source": [
    "### Mass and Nutation"
   ]
  },
  {
   "cell_type": "code",
   "execution_count": 41,
   "id": "859dfd9e",
   "metadata": {},
   "outputs": [],
   "source": [
    "# Experimental Data\n",
    "wss = 34.37054\n",
    "delta_wss = 14.19024739\n",
    "masss = np.array([0.04, 0.08, 0.1, 0.143])\n",
    "delta_masss = delta_m\n",
    "tnn = np.array([4.34, 4.91, 5.16, 6.16])/5\n",
    "wnn = 2*np.pi/tnn\n",
    "delta_wnn = wnn*0.02/tnn"
   ]
  },
  {
   "cell_type": "code",
   "execution_count": 42,
   "id": "374ec243",
   "metadata": {},
   "outputs": [
    {
     "name": "stdout",
     "output_type": "stream",
     "text": [
      "Beta: [-20.87681571   8.10184447]\n",
      "Beta Std Error: [0.81964723 0.09382753]\n",
      "Beta Covariance: [[ 2.62245702 -0.28525062]\n",
      " [-0.28525062  0.03436489]]\n",
      "Residual Variance: 0.2561802061741494\n",
      "Inverse Condition #: 0.08784848786029134\n",
      "Reason(s) for Halting:\n",
      "  Sum of squares convergence\n",
      "Line of best fit:y = (-20.88 +/- 0.82) * x + (8.10 +/- 0.09)\n"
     ]
    },
    {
     "data": {
      "image/png": "[encoded data removed]",
      "text/plain": [
       "<Figure size 432x288 with 1 Axes>"
      ]
     },
     "metadata": {
      "needs_background": "light"
     },
     "output_type": "display_data"
    }
   ],
   "source": [
    "# Plot the curve\n",
    "\n",
    "# Convert data and error into a form recognised by ODR\n",
    "nutation2 = RealData(masss, wnn, sx=delta_masss, sy=delta_wnn)\n",
    "\n",
    "# Set up ODR\n",
    "odr_n2 = ODR(nutation2, model, beta0=[2.5, 0.1])\n",
    "\n",
    "# run the regression\n",
    "out_n2 = odr_n2.run()\n",
    "out_n2.pprint()\n",
    "\n",
    "print(\"Line of best fit:\"+\"y = ({:.2f} +/- {:.2f}) * x + ({:.2f} +/- {:.2f})\".format(\n",
    "  out_n2.beta[0], out_n2.sd_beta[0],\n",
    "  out_n2.beta[1], out_n2.sd_beta[1]))\n",
    "\n",
    "plt.figure()\n",
    "plt.errorbar(masss, wnn, xerr=delta_masss, yerr=delta_wnn, fmt='.', color='red')\n",
    "plt.plot(masss, linear(out_n2.beta, masss), color='blue')\n",
    "\n",
    "plt.xlabel(\"Mass, $m$ ($kg$)\")\n",
    "plt.ylabel(\"Nutation Angular Velocity, $\\omega_n$ ($rad/s$)\")\n",
    "\n",
    "plt.show()"
   ]
  },
  {
   "cell_type": "code",
   "execution_count": 43,
   "id": "8f58e1d2",
   "metadata": {},
   "outputs": [
    {
     "data": {
      "text/plain": [
       "0.9969226038688708"
      ]
     },
     "execution_count": 43,
     "metadata": {},
     "output_type": "execute_result"
    }
   ],
   "source": [
    "slope, intercept, r_value, p_value, std_err = scipy.stats.linregress(masss, wnn)\\\n",
    "\n",
    "r_value**2"
   ]
  }
 ],
 "metadata": {
  "kernelspec": {
   "display_name": "Python 3 (ipykernel)",
   "language": "python",
   "name": "python3"
  },
  "language_info": {
   "codemirror_mode": {
    "name": "ipython",
    "version": 3
   },
   "file_extension": ".py",
   "mimetype": "text/x-python",
   "name": "python",
   "nbconvert_exporter": "python",
   "pygments_lexer": "ipython3",
   "version": "3.9.12"
  }
 },
 "nbformat": 4,
 "nbformat_minor": 5
}
